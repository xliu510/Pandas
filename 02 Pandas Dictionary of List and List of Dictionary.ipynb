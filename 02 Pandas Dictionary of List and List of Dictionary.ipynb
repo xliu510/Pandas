{
 "cells": [
  {
   "cell_type": "code",
   "execution_count": 1,
   "metadata": {},
   "outputs": [],
   "source": [
    "import pandas as pd\n",
    "import numpy as np"
   ]
  },
  {
   "cell_type": "code",
   "execution_count": 4,
   "metadata": {},
   "outputs": [
    {
     "data": {
      "text/plain": [
       "array([32897, 57263, 43483, 28180, 24360, 69650, 44105, 58602, 31322,\n",
       "       67813, 26132, 21818, 71774, 67132, 71336, 52797, 59067, 24423,\n",
       "       27371, 68482, 60298, 22231, 49441, 48364, 65459, 40015, 27670,\n",
       "       26660, 51338, 39552, 35347, 36794, 30767, 23285, 28720, 51741,\n",
       "       42360, 49406, 52383, 35127, 27994, 49706, 16513, 42161, 56430,\n",
       "       33600, 40917, 53382, 67679, 44436, 41790, 67760, 29627, 68606,\n",
       "       40398, 20354, 51077, 45934, 49071, 33198, 20304, 25797, 44348,\n",
       "       15937, 60172, 48728, 38177, 23479, 31188, 51657, 23559, 40226,\n",
       "       61949, 67788, 58238, 59118, 30791, 30669, 61531, 26268, 53513])"
      ]
     },
     "execution_count": 4,
     "metadata": {},
     "output_type": "execute_result"
    }
   ],
   "source": [
    "np.random.randint(low = 15000, high = 73000, size = 81, dtype = int)"
   ]
  },
  {
   "cell_type": "code",
   "execution_count": 5,
   "metadata": {},
   "outputs": [
    {
     "data": {
      "text/html": [
       "<div>\n",
       "<style scoped>\n",
       "    .dataframe tbody tr th:only-of-type {\n",
       "        vertical-align: middle;\n",
       "    }\n",
       "\n",
       "    .dataframe tbody tr th {\n",
       "        vertical-align: top;\n",
       "    }\n",
       "\n",
       "    .dataframe thead th {\n",
       "        text-align: right;\n",
       "    }\n",
       "</style>\n",
       "<table border=\"1\" class=\"dataframe\">\n",
       "  <thead>\n",
       "    <tr style=\"text-align: right;\">\n",
       "      <th></th>\n",
       "      <th>Frame</th>\n",
       "      <th>Prices</th>\n",
       "      <th>Sales</th>\n",
       "    </tr>\n",
       "  </thead>\n",
       "  <tbody>\n",
       "    <tr>\n",
       "      <th>0</th>\n",
       "      <td>Ornate</td>\n",
       "      <td>15.0</td>\n",
       "      <td>100</td>\n",
       "    </tr>\n",
       "    <tr>\n",
       "      <th>1</th>\n",
       "      <td>Classical</td>\n",
       "      <td>12.5</td>\n",
       "      <td>200</td>\n",
       "    </tr>\n",
       "    <tr>\n",
       "      <th>2</th>\n",
       "      <td>Modern</td>\n",
       "      <td>10.0</td>\n",
       "      <td>150</td>\n",
       "    </tr>\n",
       "    <tr>\n",
       "      <th>3</th>\n",
       "      <td>Wood</td>\n",
       "      <td>5.0</td>\n",
       "      <td>300</td>\n",
       "    </tr>\n",
       "    <tr>\n",
       "      <th>4</th>\n",
       "      <td>Cardboard</td>\n",
       "      <td>1.0</td>\n",
       "      <td>N/A</td>\n",
       "    </tr>\n",
       "  </tbody>\n",
       "</table>\n",
       "</div>"
      ],
      "text/plain": [
       "       Frame  Prices Sales\n",
       "0     Ornate    15.0   100\n",
       "1  Classical    12.5   200\n",
       "2     Modern    10.0   150\n",
       "3       Wood     5.0   300\n",
       "4  Cardboard     1.0   N/A"
      ]
     },
     "execution_count": 5,
     "metadata": {},
     "output_type": "execute_result"
    }
   ],
   "source": [
    "# Create a DataFrame of frames using a dictionary of lists\n",
    "# Dictionary of lists ({[]})\n",
    "# Creates columns of values (column by column)\n",
    "\n",
    "frames_df = pd.DataFrame({\"Frame\":[\"Ornate\",\"Classical\",\"Modern\",\"Wood\",\"Cardboard\"],\n",
    "                          \"Prices\":[15.00,12.50,10.00,5.00,1.00],\n",
    "                          \"Sales\":[100,200,150,300,\"N/A\"]})\n",
    "frames_df"
   ]
  },
  {
   "cell_type": "code",
   "execution_count": 6,
   "metadata": {},
   "outputs": [
    {
     "data": {
      "text/html": [
       "<div>\n",
       "<style scoped>\n",
       "    .dataframe tbody tr th:only-of-type {\n",
       "        vertical-align: middle;\n",
       "    }\n",
       "\n",
       "    .dataframe tbody tr th {\n",
       "        vertical-align: top;\n",
       "    }\n",
       "\n",
       "    .dataframe thead th {\n",
       "        text-align: right;\n",
       "    }\n",
       "</style>\n",
       "<table border=\"1\" class=\"dataframe\">\n",
       "  <thead>\n",
       "    <tr style=\"text-align: right;\">\n",
       "      <th></th>\n",
       "      <th>Painting</th>\n",
       "      <th>Popularity</th>\n",
       "      <th>Price</th>\n",
       "    </tr>\n",
       "  </thead>\n",
       "  <tbody>\n",
       "    <tr>\n",
       "      <th>0</th>\n",
       "      <td>Mona Lisa (Knockoff)</td>\n",
       "      <td>Very Popular</td>\n",
       "      <td>25</td>\n",
       "    </tr>\n",
       "    <tr>\n",
       "      <th>1</th>\n",
       "      <td>Van Gogh (Knockoff)</td>\n",
       "      <td>Popular</td>\n",
       "      <td>20</td>\n",
       "    </tr>\n",
       "    <tr>\n",
       "      <th>2</th>\n",
       "      <td>Starving Artist</td>\n",
       "      <td>Average</td>\n",
       "      <td>10</td>\n",
       "    </tr>\n",
       "  </tbody>\n",
       "</table>\n",
       "</div>"
      ],
      "text/plain": [
       "               Painting    Popularity  Price\n",
       "0  Mona Lisa (Knockoff)  Very Popular     25\n",
       "1   Van Gogh (Knockoff)       Popular     20\n",
       "2       Starving Artist       Average     10"
      ]
     },
     "execution_count": 6,
     "metadata": {},
     "output_type": "execute_result"
    }
   ],
   "source": [
    "# Create a DataFrame of paintings using a list of dictionaries\n",
    "# List of Dictionary ([{}])\n",
    "# Creates rows of values (row by row)\n",
    "\n",
    "paintings_df = pd.DataFrame([{\"Painting\":\"Mona Lisa (Knockoff)\", \"Price\":25, \n",
    "                              \"Popularity\":\"Very Popular\"},\n",
    "                             {\"Painting\":\"Van Gogh (Knockoff)\",\n",
    "                             \"Price\":20, \"Popularity\":\"Popular\"},\n",
    "                            {\"Painting\":\"Starving Artist\",\"Price\":10,\n",
    "                            \"Popularity\":\"Average\"}])\n",
    "paintings_df"
   ]
  }
 ],
 "metadata": {
  "kernelspec": {
   "display_name": "Python [default]",
   "language": "python",
   "name": "python3"
  },
  "language_info": {
   "codemirror_mode": {
    "name": "ipython",
    "version": 3
   },
   "file_extension": ".py",
   "mimetype": "text/x-python",
   "name": "python",
   "nbconvert_exporter": "python",
   "pygments_lexer": "ipython3",
   "version": "3.7.0"
  }
 },
 "nbformat": 4,
 "nbformat_minor": 2
}
